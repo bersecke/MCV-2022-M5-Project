{
 "cells": [
  {
   "cell_type": "code",
   "execution_count": 34,
   "metadata": {},
   "outputs": [],
   "source": [
    "import imp\n",
    "import torch\n",
    "from torch import nn\n",
    "from torch.utils.data import DataLoader\n",
    "from torchvision.datasets import ImageFolder\n",
    "from PIL import Image\n",
    "from torchvision import transforms\n",
    "from networks import *\n",
    "from tqdm import tqdm\n",
    "import wandb\n",
    "import numpy as np\n",
    "from embeddings_utils import *\n",
    "from MITSplitDataSet import MITSplitDataSet"
   ]
  },
  {
   "cell_type": "code",
   "execution_count": 35,
   "metadata": {},
   "outputs": [
    {
     "name": "stderr",
     "output_type": "stream",
     "text": [
      "Using cache found in C:\\Users\\galve/.cache\\torch\\hub\\pytorch_vision_v0.10.0\n"
     ]
    },
    {
     "name": "stdout",
     "output_type": "stream",
     "text": [
      "Linear(in_features=512, out_features=1000, bias=True)\n",
      "AdaptiveAvgPool2d(output_size=(1, 1))\n"
     ]
    }
   ],
   "source": [
    "#Get Resnet pre-trained model to compute embeddings of MIT_split\n",
    "model = torch.hub.load('pytorch/vision:v0.10.0', 'resnet18', pretrained=True)\n",
    "\n",
    "print(list(model.children())[-1])\n",
    "newModel = torch.nn.Sequential(*(list(model.children())[:-1]))\n",
    "print(list(newModel.children())[-1])\n",
    "\n"
   ]
  },
  {
   "cell_type": "code",
   "execution_count": 36,
   "metadata": {},
   "outputs": [],
   "source": [
    "TRANSFORM_IMG = transforms.Compose([\n",
    "    transforms.Resize(128),\n",
    "    transforms.RandomHorizontalFlip(),\n",
    "    transforms.ToTensor(),\n",
    "    # transforms.Normalize(mean=[0.5, 0.5, 0.5],\n",
    "    #                      std=[0.5, 0.5, 0.5] ) \n",
    "    transforms.Normalize(mean=[0.485, 0.456, 0.406], std=[0.229, 0.224, 0.225]) #For imagenet pretrained\n",
    "])\n",
    "TRAIN_DATA_PATH = '../MIT_split/train_images_filenames.dat'\n",
    "TRAIN_LABELS_DATA_PATH = '../MIT_split/train_labels.dat'\n"
   ]
  },
  {
   "cell_type": "code",
   "execution_count": 37,
   "metadata": {},
   "outputs": [
    {
     "ename": "UnpicklingError",
     "evalue": "the STRING opcode argument must be quoted",
     "output_type": "error",
     "traceback": [
      "\u001b[1;31m---------------------------------------------------------------------------\u001b[0m",
      "\u001b[1;31mUnpicklingError\u001b[0m                           Traceback (most recent call last)",
      "\u001b[1;32mc:\\Users\\galve\\Master\\M5\\MCV-2022-M5-Project\\Week4\\taskA.ipynb Cell 4'\u001b[0m in \u001b[0;36m<module>\u001b[1;34m\u001b[0m\n\u001b[1;32m----> <a href='vscode-notebook-cell:/c%3A/Users/galve/Master/M5/MCV-2022-M5-Project/Week4/taskA.ipynb#ch0000005?line=0'>1</a>\u001b[0m train_data \u001b[39m=\u001b[39m MITSplitDataSet(TRAIN_DATA_PATH, TRAIN_LABELS_DATA_PATH, TRANSFORM_IMG)\n\u001b[0;32m      <a href='vscode-notebook-cell:/c%3A/Users/galve/Master/M5/MCV-2022-M5-Project/Week4/taskA.ipynb#ch0000005?line=1'>2</a>\u001b[0m train_dataloader \u001b[39m=\u001b[39m DataLoader(train_data, batch_size\u001b[39m=\u001b[39m\u001b[39m1\u001b[39m, shuffle\u001b[39m=\u001b[39m\u001b[39mTrue\u001b[39;00m)\n\u001b[0;32m      <a href='vscode-notebook-cell:/c%3A/Users/galve/Master/M5/MCV-2022-M5-Project/Week4/taskA.ipynb#ch0000005?line=2'>3</a>\u001b[0m \u001b[39mfor\u001b[39;00m data \u001b[39min\u001b[39;00m train_dataloader:\n",
      "File \u001b[1;32mc:\\Users\\galve\\Master\\M5\\MCV-2022-M5-Project\\Week4\\MITSplitDataSet.py:15\u001b[0m, in \u001b[0;36mMITSplitDataSet.__init__\u001b[1;34m(self, image_path, labels_path, processor)\u001b[0m\n\u001b[0;32m      <a href='file:///c%3A/Users/galve/Master/M5/MCV-2022-M5-Project/Week4/MITSplitDataSet.py?line=6'>7</a>\u001b[0m \u001b[39mdef\u001b[39;00m \u001b[39m__init__\u001b[39m(\u001b[39mself\u001b[39m, image_path, labels_path, processor):\n\u001b[0;32m      <a href='file:///c%3A/Users/galve/Master/M5/MCV-2022-M5-Project/Week4/MITSplitDataSet.py?line=7'>8</a>\u001b[0m     \u001b[39m\"\"\"\u001b[39;00m\n\u001b[0;32m      <a href='file:///c%3A/Users/galve/Master/M5/MCV-2022-M5-Project/Week4/MITSplitDataSet.py?line=8'>9</a>\u001b[0m \u001b[39m    A dataset example where the class is embedded in the file names\u001b[39;00m\n\u001b[0;32m     <a href='file:///c%3A/Users/galve/Master/M5/MCV-2022-M5-Project/Week4/MITSplitDataSet.py?line=9'>10</a>\u001b[0m \u001b[39m    Args:\u001b[39;00m\n\u001b[1;32m   (...)\u001b[0m\n\u001b[0;32m     <a href='file:///c%3A/Users/galve/Master/M5/MCV-2022-M5-Project/Week4/MITSplitDataSet.py?line=12'>13</a>\u001b[0m \u001b[39m        processor (string): torch image processor\u001b[39;00m\n\u001b[0;32m     <a href='file:///c%3A/Users/galve/Master/M5/MCV-2022-M5-Project/Week4/MITSplitDataSet.py?line=13'>14</a>\u001b[0m \u001b[39m    \"\"\"\u001b[39;00m\n\u001b[1;32m---> <a href='file:///c%3A/Users/galve/Master/M5/MCV-2022-M5-Project/Week4/MITSplitDataSet.py?line=14'>15</a>\u001b[0m     images_filenames \u001b[39m=\u001b[39m pickle\u001b[39m.\u001b[39;49mload(\u001b[39mopen\u001b[39;49m(image_path,\u001b[39m'\u001b[39;49m\u001b[39mrb\u001b[39;49m\u001b[39m'\u001b[39;49m))\n\u001b[0;32m     <a href='file:///c%3A/Users/galve/Master/M5/MCV-2022-M5-Project/Week4/MITSplitDataSet.py?line=15'>16</a>\u001b[0m     \u001b[39mself\u001b[39m\u001b[39m.\u001b[39mimages_filenames \u001b[39m=\u001b[39m [\u001b[39m'\u001b[39m\u001b[39m..\u001b[39m\u001b[39m'\u001b[39m \u001b[39m+\u001b[39m n[\u001b[39m15\u001b[39m:] \u001b[39mfor\u001b[39;00m n \u001b[39min\u001b[39;00m images_filenames]\n\u001b[0;32m     <a href='file:///c%3A/Users/galve/Master/M5/MCV-2022-M5-Project/Week4/MITSplitDataSet.py?line=16'>17</a>\u001b[0m     \u001b[39mself\u001b[39m\u001b[39m.\u001b[39mlabels \u001b[39m=\u001b[39m pickle\u001b[39m.\u001b[39mload(\u001b[39mopen\u001b[39m(labels_path,\u001b[39m'\u001b[39m\u001b[39mrb\u001b[39m\u001b[39m'\u001b[39m))\n",
      "\u001b[1;31mUnpicklingError\u001b[0m: the STRING opcode argument must be quoted"
     ]
    }
   ],
   "source": [
    "train_data = MITSplitDataSet(TRAIN_DATA_PATH, TRAIN_LABELS_DATA_PATH, TRANSFORM_IMG)\n",
    "train_dataloader = DataLoader(train_data, batch_size=1, shuffle=True)\n",
    "for data in train_dataloader:\n",
    "    print(data)\n",
    "    a = 3\n",
    "    break"
   ]
  }
 ],
 "metadata": {
  "interpreter": {
   "hash": "2bc29f060ed23a123f6d9ca4fac8af0775aca92f5b2f5a596f9ae7b118c743e6"
  },
  "kernelspec": {
   "display_name": "Python 3.8.12 ('Torch')",
   "language": "python",
   "name": "python3"
  },
  "language_info": {
   "codemirror_mode": {
    "name": "ipython",
    "version": 3
   },
   "file_extension": ".py",
   "mimetype": "text/x-python",
   "name": "python",
   "nbconvert_exporter": "python",
   "pygments_lexer": "ipython3",
   "version": "3.8.12"
  },
  "orig_nbformat": 4
 },
 "nbformat": 4,
 "nbformat_minor": 2
}
