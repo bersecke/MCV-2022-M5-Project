{
 "cells": [
  {
   "cell_type": "code",
   "execution_count": 33,
   "id": "bb194550",
   "metadata": {},
   "outputs": [],
   "source": [
    "import glob\n",
    "import numpy as np\n",
    "import pandas as pd\n",
    "import random\n",
    "\n",
    "train_data_path = '../MIT_split/train'\n",
    "\n",
    "classes = []\n",
    "train_image_paths = []\n",
    "\n",
    "for data_path in glob.glob(train_data_path + '/*'):\n",
    "    classes.append(data_path.split('/')[-1]) \n",
    "    train_image_paths.append(glob.glob(data_path + '/*'))\n",
    "\n",
    "train_image_paths = [val for sublist in train_image_paths for val in sublist]\n",
    "random.shuffle(train_image_paths)\n",
    "\n",
    "idx_to_class = {i:j for i, j in enumerate(classes)}\n",
    "class_to_idx = {value:key for key,value in idx_to_class.items()}"
   ]
  },
  {
   "cell_type": "code",
   "execution_count": 34,
   "id": "3d4084a4",
   "metadata": {},
   "outputs": [
    {
     "data": {
      "text/plain": [
       "{'forest': 0,\n",
       " 'inside_city': 1,\n",
       " 'highway': 2,\n",
       " 'coast': 3,\n",
       " 'tallbuilding': 4,\n",
       " 'street': 5,\n",
       " 'mountain': 6,\n",
       " 'Opencountry': 7}"
      ]
     },
     "execution_count": 34,
     "metadata": {},
     "output_type": "execute_result"
    }
   ],
   "source": [
    "class_to_idx"
   ]
  },
  {
   "cell_type": "code",
   "execution_count": 36,
   "id": "c8df4f5f",
   "metadata": {},
   "outputs": [],
   "source": [
    "labels = []\n",
    "for path in train_image_paths:\n",
    "    label = path.split('/')[-2]\n",
    "    label = class_to_idx[label]\n",
    "    labels.append(label)"
   ]
  },
  {
   "cell_type": "code",
   "execution_count": 41,
   "id": "7e4ffec1",
   "metadata": {},
   "outputs": [],
   "source": [
    "data = []\n",
    "data.append(train_image_paths)\n",
    "data.append(labels)\n",
    "\n",
    "MIT_split_df = pd.DataFrame(data).transpose()\n",
    "MIT_split_df.columns=['image_paths', 'labels']"
   ]
  },
  {
   "cell_type": "code",
   "execution_count": 42,
   "id": "1d997a6c",
   "metadata": {},
   "outputs": [
    {
     "data": {
      "text/html": [
       "<div>\n",
       "<style scoped>\n",
       "    .dataframe tbody tr th:only-of-type {\n",
       "        vertical-align: middle;\n",
       "    }\n",
       "\n",
       "    .dataframe tbody tr th {\n",
       "        vertical-align: top;\n",
       "    }\n",
       "\n",
       "    .dataframe thead th {\n",
       "        text-align: right;\n",
       "    }\n",
       "</style>\n",
       "<table border=\"1\" class=\"dataframe\">\n",
       "  <thead>\n",
       "    <tr style=\"text-align: right;\">\n",
       "      <th></th>\n",
       "      <th>image_paths</th>\n",
       "      <th>labels</th>\n",
       "    </tr>\n",
       "  </thead>\n",
       "  <tbody>\n",
       "    <tr>\n",
       "      <th>0</th>\n",
       "      <td>../MIT_split/train/forest/land733.jpg</td>\n",
       "      <td>0</td>\n",
       "    </tr>\n",
       "    <tr>\n",
       "      <th>1</th>\n",
       "      <td>../MIT_split/train/coast/n384099.jpg</td>\n",
       "      <td>3</td>\n",
       "    </tr>\n",
       "    <tr>\n",
       "      <th>2</th>\n",
       "      <td>../MIT_split/train/forest/for112.jpg</td>\n",
       "      <td>0</td>\n",
       "    </tr>\n",
       "    <tr>\n",
       "      <th>3</th>\n",
       "      <td>../MIT_split/train/forest/for58.jpg</td>\n",
       "      <td>0</td>\n",
       "    </tr>\n",
       "    <tr>\n",
       "      <th>4</th>\n",
       "      <td>../MIT_split/train/coast/art294.jpg</td>\n",
       "      <td>3</td>\n",
       "    </tr>\n",
       "    <tr>\n",
       "      <th>...</th>\n",
       "      <td>...</td>\n",
       "      <td>...</td>\n",
       "    </tr>\n",
       "    <tr>\n",
       "      <th>1876</th>\n",
       "      <td>../MIT_split/train/tallbuilding/art1747.jpg</td>\n",
       "      <td>4</td>\n",
       "    </tr>\n",
       "    <tr>\n",
       "      <th>1877</th>\n",
       "      <td>../MIT_split/train/forest/nat347.jpg</td>\n",
       "      <td>0</td>\n",
       "    </tr>\n",
       "    <tr>\n",
       "      <th>1878</th>\n",
       "      <td>../MIT_split/train/tallbuilding/art459.jpg</td>\n",
       "      <td>4</td>\n",
       "    </tr>\n",
       "    <tr>\n",
       "      <th>1879</th>\n",
       "      <td>../MIT_split/train/Opencountry/natu885.jpg</td>\n",
       "      <td>7</td>\n",
       "    </tr>\n",
       "    <tr>\n",
       "      <th>1880</th>\n",
       "      <td>../MIT_split/train/mountain/n213048.jpg</td>\n",
       "      <td>6</td>\n",
       "    </tr>\n",
       "  </tbody>\n",
       "</table>\n",
       "<p>1881 rows × 2 columns</p>\n",
       "</div>"
      ],
      "text/plain": [
       "                                      image_paths labels\n",
       "0           ../MIT_split/train/forest/land733.jpg      0\n",
       "1            ../MIT_split/train/coast/n384099.jpg      3\n",
       "2            ../MIT_split/train/forest/for112.jpg      0\n",
       "3             ../MIT_split/train/forest/for58.jpg      0\n",
       "4             ../MIT_split/train/coast/art294.jpg      3\n",
       "...                                           ...    ...\n",
       "1876  ../MIT_split/train/tallbuilding/art1747.jpg      4\n",
       "1877         ../MIT_split/train/forest/nat347.jpg      0\n",
       "1878   ../MIT_split/train/tallbuilding/art459.jpg      4\n",
       "1879   ../MIT_split/train/Opencountry/natu885.jpg      7\n",
       "1880      ../MIT_split/train/mountain/n213048.jpg      6\n",
       "\n",
       "[1881 rows x 2 columns]"
      ]
     },
     "execution_count": 42,
     "metadata": {},
     "output_type": "execute_result"
    }
   ],
   "source": [
    "MIT_split_df"
   ]
  },
  {
   "cell_type": "code",
   "execution_count": 43,
   "id": "07272aa5",
   "metadata": {},
   "outputs": [],
   "source": [
    "MIT_split_df.to_csv('../MIT_split/train_data.csv')"
   ]
  },
  {
   "cell_type": "code",
   "execution_count": null,
   "id": "7c262c84",
   "metadata": {},
   "outputs": [],
   "source": []
  }
 ],
 "metadata": {
  "kernelspec": {
   "display_name": "Python 3 (ipykernel)",
   "language": "python",
   "name": "python3"
  },
  "language_info": {
   "codemirror_mode": {
    "name": "ipython",
    "version": 3
   },
   "file_extension": ".py",
   "mimetype": "text/x-python",
   "name": "python",
   "nbconvert_exporter": "python",
   "pygments_lexer": "ipython3",
   "version": "3.8.12"
  }
 },
 "nbformat": 4,
 "nbformat_minor": 5
}
