{
 "cells": [
  {
   "cell_type": "code",
   "execution_count": 343,
   "id": "67564cf0",
   "metadata": {},
   "outputs": [],
   "source": [
    "# Import the necessary libraries\n",
    "from PIL import Image\n",
    "import random\n",
    "from numpy import asarray\n",
    "  \n",
    "# load the image and convert into\n",
    "# numpy array\n",
    "path = 'bear'\n",
    "img = Image.open('brian_image_to_test/' + path + '.jpeg')\n",
    "  \n",
    "# asarray() class is used to convert\n",
    "# PIL images into NumPy arrays\n",
    "img_array = asarray(img)\n",
    "h,w,channels = img_array.shape"
   ]
  },
  {
   "cell_type": "code",
   "execution_count": 344,
   "id": "d7e24047",
   "metadata": {},
   "outputs": [],
   "source": [
    "img.save('brian_image_to_test/' + path + '.png')"
   ]
  },
  {
   "cell_type": "code",
   "execution_count": 345,
   "id": "487d5e6b",
   "metadata": {},
   "outputs": [
    {
     "name": "stdout",
     "output_type": "stream",
     "text": [
      "(640, 521, 3)\n"
     ]
    }
   ],
   "source": [
    "print(img_array.shape)"
   ]
  },
  {
   "cell_type": "code",
   "execution_count": 346,
   "id": "90165bf7",
   "metadata": {},
   "outputs": [],
   "source": [
    "img_array[:350,:]=0\n",
    "img_array[:,300:]=0"
   ]
  },
  {
   "cell_type": "code",
   "execution_count": 347,
   "id": "9823c35a",
   "metadata": {},
   "outputs": [],
   "source": [
    "img_mod = Image.fromarray(img_array)\n",
    "img_mod.show()"
   ]
  },
  {
   "cell_type": "code",
   "execution_count": 348,
   "id": "68aaa319",
   "metadata": {},
   "outputs": [],
   "source": [
    "img_mod.save('brian_image_to_test/' +path+\"_v2_blacked.png\")"
   ]
  },
  {
   "cell_type": "code",
   "execution_count": 349,
   "id": "06ef0f35",
   "metadata": {},
   "outputs": [],
   "source": [
    "img_array = asarray(img)\n",
    "mu = 100\n",
    "sigma = 50\n",
    "\n",
    "for c in range(channels):\n",
    "    # x direction\n",
    "    for i in range(w-300):\n",
    "        for y in range(h-1):\n",
    "            img_array[y, i+300,c]= random.gauss(mu, sigma) \n",
    "            \n",
    "    # y direction\n",
    "    for j in range(350):\n",
    "        for x in range(w-1):\n",
    "            img_array[j,x,c]= random.gauss(mu, sigma)"
   ]
  },
  {
   "cell_type": "code",
   "execution_count": 350,
   "id": "46e50ef1",
   "metadata": {},
   "outputs": [],
   "source": [
    "img_mod = Image.fromarray(img_array)\n",
    "img_mod.show()"
   ]
  },
  {
   "cell_type": "code",
   "execution_count": 351,
   "id": "bd051865",
   "metadata": {},
   "outputs": [],
   "source": [
    "img_mod.save('brian_image_to_test/' +path+\"_v2_noise.png\")"
   ]
  },
  {
   "cell_type": "code",
   "execution_count": null,
   "id": "9f515cac",
   "metadata": {},
   "outputs": [],
   "source": []
  },
  {
   "cell_type": "code",
   "execution_count": null,
   "id": "93f5c994",
   "metadata": {},
   "outputs": [],
   "source": []
  }
 ],
 "metadata": {
  "kernelspec": {
   "display_name": "Python 3 (ipykernel)",
   "language": "python",
   "name": "python3"
  },
  "language_info": {
   "codemirror_mode": {
    "name": "ipython",
    "version": 3
   },
   "file_extension": ".py",
   "mimetype": "text/x-python",
   "name": "python",
   "nbconvert_exporter": "python",
   "pygments_lexer": "ipython3",
   "version": "3.8.12"
  }
 },
 "nbformat": 4,
 "nbformat_minor": 5
}
