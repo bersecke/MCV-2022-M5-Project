{
 "cells": [
  {
   "cell_type": "code",
   "execution_count": 90,
   "id": "79a64913",
   "metadata": {},
   "outputs": [],
   "source": [
    "# Import the necessary libraries\n",
    "from PIL import Image\n",
    "from numpy import asarray\n",
    "  \n",
    "# load the image and convert into\n",
    "# numpy array\n",
    "img = Image.open('asian_guy_pizza.jpeg')\n",
    "  \n",
    "# asarray() class is used to convert\n",
    "# PIL images into NumPy arrays\n",
    "img_array = asarray(img)"
   ]
  },
  {
   "cell_type": "code",
   "execution_count": 91,
   "id": "2f501b84",
   "metadata": {},
   "outputs": [
    {
     "name": "stdout",
     "output_type": "stream",
     "text": [
      "(640, 480, 3)\n"
     ]
    }
   ],
   "source": [
    "print(img_array.shape)"
   ]
  },
  {
   "cell_type": "code",
   "execution_count": 92,
   "id": "a1506463",
   "metadata": {},
   "outputs": [],
   "source": [
    "img_array[:400,:]=0\n",
    "img_array[:,:260]=0"
   ]
  },
  {
   "cell_type": "code",
   "execution_count": 93,
   "id": "1008408d",
   "metadata": {},
   "outputs": [],
   "source": [
    "img_mod = Image.fromarray(img_array)"
   ]
  },
  {
   "cell_type": "code",
   "execution_count": 94,
   "id": "dfd46658",
   "metadata": {},
   "outputs": [],
   "source": [
    "img_mod.show()"
   ]
  },
  {
   "cell_type": "code",
   "execution_count": 95,
   "id": "27e3eb7c",
   "metadata": {},
   "outputs": [],
   "source": [
    "img_mod.save(\"asian_guy_pizza_blacked.jpeg\")"
   ]
  },
  {
   "cell_type": "code",
   "execution_count": null,
   "id": "3168774f",
   "metadata": {},
   "outputs": [],
   "source": []
  }
 ],
 "metadata": {
  "kernelspec": {
   "display_name": "Python 3 (ipykernel)",
   "language": "python",
   "name": "python3"
  },
  "language_info": {
   "codemirror_mode": {
    "name": "ipython",
    "version": 3
   },
   "file_extension": ".py",
   "mimetype": "text/x-python",
   "name": "python",
   "nbconvert_exporter": "python",
   "pygments_lexer": "ipython3",
   "version": "3.8.12"
  }
 },
 "nbformat": 4,
 "nbformat_minor": 5
}
