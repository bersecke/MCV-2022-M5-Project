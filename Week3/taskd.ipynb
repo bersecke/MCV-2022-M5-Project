{
 "cells": [
  {
   "cell_type": "code",
   "execution_count": 14,
   "id": "67564cf0",
   "metadata": {},
   "outputs": [
    {
     "name": "stdout",
     "output_type": "stream",
     "text": [
      "(427, 640, 3)\n"
     ]
    }
   ],
   "source": [
    "# Import the necessary libraries\n",
    "from PIL import Image\n",
    "import random\n",
    "from numpy import asarray\n",
    "  \n",
    "# load the image and convert into\n",
    "# numpy array\n",
    "path = 'snow_bear_v2_black_background'\n",
    "img = Image.open('brian_image_to_test2/' + path + '.png')\n",
    "  \n",
    "# asarray() class is used to convert\n",
    "# PIL images into NumPy arrays\n",
    "img_array = asarray(img)\n",
    "h,w,channels = img_array.shape\n",
    "print(img_array.shape)"
   ]
  },
  {
   "cell_type": "code",
   "execution_count": 15,
   "id": "d7e24047",
   "metadata": {},
   "outputs": [],
   "source": [
    "# img.save('brian_image_to_test/' + path + '.png')"
   ]
  },
  {
   "cell_type": "code",
   "execution_count": 16,
   "id": "90165bf7",
   "metadata": {},
   "outputs": [],
   "source": [
    "img_array[:100,:]=0\n",
    "img_array[:,:350]=0\n",
    "img_mod = Image.fromarray(img_array)\n",
    "img_mod.save('brian_image_to_test2/' +path+\"_blacked.png\")"
   ]
  },
  {
   "cell_type": "code",
   "execution_count": 17,
   "id": "06ef0f35",
   "metadata": {},
   "outputs": [],
   "source": [
    "img_array = asarray(img)\n",
    "mu = 100\n",
    "sigma = 50\n",
    "\n",
    "for c in range(channels):\n",
    "    # x direction\n",
    "    for i in range(350):\n",
    "        for y in range(h-1):\n",
    "            img_array[y, i,c]= random.gauss(mu, sigma) \n",
    "            \n",
    "    # y direction\n",
    "    for j in range(100):\n",
    "        for x in range(w-1):\n",
    "            img_array[j,x,c]= random.gauss(mu, sigma)"
   ]
  },
  {
   "cell_type": "code",
   "execution_count": null,
   "id": "46e50ef1",
   "metadata": {},
   "outputs": [],
   "source": [
    "img_mod = Image.fromarray(img_array)\n",
    "img_mod.show()"
   ]
  },
  {
   "cell_type": "code",
   "execution_count": null,
   "id": "bd051865",
   "metadata": {},
   "outputs": [],
   "source": [
    "img_mod.save('brian_image_to_test2/' +path+\"_noise.png\")"
   ]
  }
 ],
 "metadata": {
  "kernelspec": {
   "display_name": "Python 3 (ipykernel)",
   "language": "python",
   "name": "python3"
  },
  "language_info": {
   "codemirror_mode": {
    "name": "ipython",
    "version": 3
   },
   "file_extension": ".py",
   "mimetype": "text/x-python",
   "name": "python",
   "nbconvert_exporter": "python",
   "pygments_lexer": "ipython3",
   "version": "3.7.4"
  }
 },
 "nbformat": 4,
 "nbformat_minor": 5
}
