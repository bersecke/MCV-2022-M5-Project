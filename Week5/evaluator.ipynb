{
 "cells": [
  {
   "cell_type": "code",
   "execution_count": 1,
   "metadata": {},
   "outputs": [],
   "source": [
    "import numpy as np\n",
    "import torch\n",
    "from torch import nn\n",
    "import pickle as pkl\n",
    "import torch\n",
    "\n",
    "from torch.optim import lr_scheduler\n",
    "import torch.optim as optim\n",
    "\n",
    "import os\n",
    "import numpy as np\n",
    "from networks import EmbeddingNet, TripletNetAdapted, TripletNetAdaptedText\n",
    "from flickrDataSet import *\n",
    "from matplotlib import pyplot as plt"
   ]
  },
  {
   "cell_type": "code",
   "execution_count": 5,
   "metadata": {},
   "outputs": [],
   "source": [
    "device = \"cuda\" if torch.cuda.is_available() else \"cpu\"\n",
    "model_path = 'TripletNet_taskB.pth'"
   ]
  },
  {
   "cell_type": "code",
   "execution_count": 3,
   "metadata": {},
   "outputs": [],
   "source": [
    "def aggregation_text(word_embs, axis = 0):\n",
    "    return np.sum(word_embs, axis=axis)"
   ]
  },
  {
   "cell_type": "code",
   "execution_count": 6,
   "metadata": {},
   "outputs": [
    {
     "name": "stdout",
     "output_type": "stream",
     "text": [
      "Loading model...\n"
     ]
    },
    {
     "ename": "RuntimeError",
     "evalue": "Error(s) in loading state_dict for TripletNetAdaptedText:\n\tMissing key(s) in state_dict: \"image_net.fc1.2.weight\", \"image_net.fc1.2.bias\", \"text_net.fc1.2.weight\", \"text_net.fc1.2.bias\". \n\tUnexpected key(s) in state_dict: \"image_net.fc1.1.weight\", \"text_net.fc1.1.weight\". ",
     "output_type": "error",
     "traceback": [
      "\u001b[0;31m---------------------------------------------------------------------------\u001b[0m",
      "\u001b[0;31mRuntimeError\u001b[0m                              Traceback (most recent call last)",
      "\u001b[0;32m<ipython-input-6-e4fb516f62d0>\u001b[0m in \u001b[0;36m<module>\u001b[0;34m\u001b[0m\n\u001b[1;32m      9\u001b[0m \u001b[0;34m\u001b[0m\u001b[0m\n\u001b[1;32m     10\u001b[0m \u001b[0mprint\u001b[0m\u001b[0;34m(\u001b[0m\u001b[0;34m'Loading model...'\u001b[0m\u001b[0;34m)\u001b[0m\u001b[0;34m\u001b[0m\u001b[0;34m\u001b[0m\u001b[0m\n\u001b[0;32m---> 11\u001b[0;31m \u001b[0mmodel\u001b[0m\u001b[0;34m.\u001b[0m\u001b[0mload_state_dict\u001b[0m\u001b[0;34m(\u001b[0m\u001b[0mtorch\u001b[0m\u001b[0;34m.\u001b[0m\u001b[0mload\u001b[0m\u001b[0;34m(\u001b[0m\u001b[0mmodel_path\u001b[0m\u001b[0;34m)\u001b[0m\u001b[0;34m)\u001b[0m\u001b[0;34m\u001b[0m\u001b[0;34m\u001b[0m\u001b[0m\n\u001b[0m\u001b[1;32m     12\u001b[0m \u001b[0mmodel\u001b[0m\u001b[0;34m.\u001b[0m\u001b[0mto\u001b[0m\u001b[0;34m(\u001b[0m\u001b[0mdevice\u001b[0m\u001b[0;34m)\u001b[0m\u001b[0;34m\u001b[0m\u001b[0;34m\u001b[0m\u001b[0m\n",
      "\u001b[0;32m~/anaconda3/envs/M5env/lib/python3.7/site-packages/torch/nn/modules/module.py\u001b[0m in \u001b[0;36mload_state_dict\u001b[0;34m(self, state_dict, strict)\u001b[0m\n\u001b[1;32m   1481\u001b[0m         \u001b[0;32mif\u001b[0m \u001b[0mlen\u001b[0m\u001b[0;34m(\u001b[0m\u001b[0merror_msgs\u001b[0m\u001b[0;34m)\u001b[0m \u001b[0;34m>\u001b[0m \u001b[0;36m0\u001b[0m\u001b[0;34m:\u001b[0m\u001b[0;34m\u001b[0m\u001b[0;34m\u001b[0m\u001b[0m\n\u001b[1;32m   1482\u001b[0m             raise RuntimeError('Error(s) in loading state_dict for {}:\\n\\t{}'.format(\n\u001b[0;32m-> 1483\u001b[0;31m                                self.__class__.__name__, \"\\n\\t\".join(error_msgs)))\n\u001b[0m\u001b[1;32m   1484\u001b[0m         \u001b[0;32mreturn\u001b[0m \u001b[0m_IncompatibleKeys\u001b[0m\u001b[0;34m(\u001b[0m\u001b[0mmissing_keys\u001b[0m\u001b[0;34m,\u001b[0m \u001b[0munexpected_keys\u001b[0m\u001b[0;34m)\u001b[0m\u001b[0;34m\u001b[0m\u001b[0;34m\u001b[0m\u001b[0m\n\u001b[1;32m   1485\u001b[0m \u001b[0;34m\u001b[0m\u001b[0m\n",
      "\u001b[0;31mRuntimeError\u001b[0m: Error(s) in loading state_dict for TripletNetAdaptedText:\n\tMissing key(s) in state_dict: \"image_net.fc1.2.weight\", \"image_net.fc1.2.bias\", \"text_net.fc1.2.weight\", \"text_net.fc1.2.bias\". \n\tUnexpected key(s) in state_dict: \"image_net.fc1.1.weight\", \"text_net.fc1.1.weight\". "
     ]
    }
   ],
   "source": [
    "img_emb_dim = 4096\n",
    "text_emb_dim = 300\n",
    "\n",
    "embedding_net_img = EmbeddingNet(emd_dim=img_emb_dim)\n",
    "embedding_net_text = EmbeddingNet(emd_dim=text_emb_dim)\n",
    "# model = TripletNetAdapted(embedding_net_img, embedding_net_text)\n",
    "model = TripletNetAdaptedText(embedding_net_img, embedding_net_text)\n",
    "\n",
    "\n",
    "print('Loading model...')\n",
    "model.load_state_dict(torch.load(model_path))\n",
    "model.to(device)\n"
   ]
  },
  {
   "cell_type": "code",
   "execution_count": 6,
   "metadata": {},
   "outputs": [
    {
     "name": "stdout",
     "output_type": "stream",
     "text": [
      "(30014, 5)\n"
     ]
    }
   ],
   "source": [
    "# Prepare the dataset\n",
    "train_data = FlickrDataset('./dataset/train_img_embs.pkl', './dataset/train_text_embs.pkl', aggregation=aggregation_text, train= True)\n",
    "# test_data = FlickrDataset('./dataset/test_img_embs.pkl', './dataset/test_text_embs.pkl', aggregation=aggregation_text, train= False)"
   ]
  },
  {
   "cell_type": "code",
   "execution_count": 7,
   "metadata": {},
   "outputs": [],
   "source": [
    "color = ['#1f77b4', '#ff7f0e', '#2ca02c', '#d62728', '#9467bd', '#8c564b', '#e377c2', '#7f7f7f', '#bcbd22', '#17becf']\n",
    "encoded_imgs = []\n",
    "encoded_captions = []\n",
    "all_embs = []\n",
    "labels = []\n",
    "\n",
    "for ind in range(len(train_data)):\n",
    "    img, texts = train_data.getAllCaptions(ind)\n",
    "    img_emb = model.get_embedding_img(torch.from_numpy(img).to(device)).data.cpu().numpy()\n",
    "    encoded_imgs.append(img_emb)\n",
    "    texts_embs = [model.get_embedding_text(torch.from_numpy(tx).to(device)).data.cpu().numpy() for tx in texts]\n",
    "    encoded_captions.append(texts_embs)\n",
    "    all_embs.append(img_emb)\n",
    "    all_embs += texts_embs\n",
    "    labels += [ind for i in range(1 + len(texts_embs))]\n",
    "\n",
    "encoded_imgs = np.array(encoded_imgs)\n",
    "encoded_captions = np.array(encoded_captions)"
   ]
  },
  {
   "cell_type": "code",
   "execution_count": 9,
   "metadata": {},
   "outputs": [
    {
     "name": "stderr",
     "output_type": "stream",
     "text": [
      "/home/group05/anaconda3/envs/M5env/lib/python3.7/site-packages/scipy/sparse/_index.py:125: SparseEfficiencyWarning: Changing the sparsity structure of a csr_matrix is expensive. lil_matrix is more efficient.\n",
      "  self._set_arrayXarray(i, j, x)\n"
     ]
    },
    {
     "data": {
      "image/png": "[encoded data removed]",
      "text/plain": [
       "<Figure size 1080x1080 with 1 Axes>"
      ]
     },
     "metadata": {
      "needs_background": "light"
     },
     "output_type": "display_data"
    }
   ],
   "source": [
    "# #UMAP\n",
    "# # compute the umap image representation\n",
    "import umap.umap_ as umap\n",
    "import matplotlib.patheffects as PathEffects\n",
    "\n",
    "def plot_embeddings_umap(embeddings_cl, embeddings_to_plot, labels_cl):\n",
    "        plt.figure(figsize=(15,15))\n",
    "        umap_emb = umap.UMAP(n_neighbors=4, min_dist=0.3, metric='correlation')\n",
    "        umap_emb.fit(embeddings_cl)\n",
    "        embedding = umap_emb.transform(embeddings_to_plot)\n",
    "        labels = np.unique(labels_cl)\n",
    "\n",
    "        for idx, label in enumerate(labels):\n",
    "            label_features = [embedding[i] for i, x in enumerate(labels_cl) if x == label]\n",
    "            plt.scatter(\n",
    "                [x[0] for x in label_features],\n",
    "                [x[1] for x in label_features],\n",
    "                c=np.array([color[idx]]),\n",
    "                label=label,\n",
    "                # s=np.ones(len(test_classes)),\n",
    "            )\n",
    "\n",
    "        # plt.legend(loc='best')\n",
    "\n",
    "        for idx, label in enumerate(labels):\n",
    "            label_features = [embedding[i] for i, x in enumerate(labels_cl) if x == label]\n",
    "            xtext, ytext = np.median(label_features, axis=0)\n",
    "            txt = plt.text(xtext, ytext, label)\n",
    "            txt.set_path_effects([\n",
    "                PathEffects.Stroke(linewidth=5, foreground=\"w\"),\n",
    "                PathEffects.Normal()])\n",
    "\n",
    "        plt.title('2D UMAP representation of the image features')\n",
    "        plt.show()\n",
    "\n",
    "\n",
    "plot_embeddings_umap(all_embs, all_embs[:12], labels[:12])"
   ]
  }
 ],
 "metadata": {
  "interpreter": {
   "hash": "3403cc93a53f62706eb00774ee9b4a3b3eb9f2d81f53e3496b8b070b38dadcd0"
  },
  "kernelspec": {
   "display_name": "Python 3.7.4 ('base')",
   "language": "python",
   "name": "python3"
  },
  "language_info": {
   "codemirror_mode": {
    "name": "ipython",
    "version": 3
   },
   "file_extension": ".py",
   "mimetype": "text/x-python",
   "name": "python",
   "nbconvert_exporter": "python",
   "pygments_lexer": "ipython3",
   "version": "3.7.4"
  },
  "orig_nbformat": 4
 },
 "nbformat": 4,
 "nbformat_minor": 2
}
