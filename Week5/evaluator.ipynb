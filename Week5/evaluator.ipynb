{
 "cells": [
  {
   "cell_type": "code",
   "execution_count": 3,
   "metadata": {},
   "outputs": [],
   "source": [
    "import numpy as np\n",
    "import torch\n",
    "from torch import nn\n",
    "import pickle as pkl\n",
    "import torch\n",
    "\n",
    "from torch.optim import lr_scheduler\n",
    "import torch.optim as optim\n",
    "\n",
    "import os\n",
    "import numpy as np\n",
    "from networks import EmbeddingNet, TripletNetAdapted, TripletNetAdaptedText\n",
    "from flickrDataSet import *\n",
    "from matplotlib import pyplot as plt\n",
    "from embeddings_utils import *\n",
    "from tqdm import tqdm"
   ]
  },
  {
   "cell_type": "code",
   "execution_count": 4,
   "metadata": {},
   "outputs": [],
   "source": [
    "device = \"cuda\" if torch.cuda.is_available() else \"cpu\"\n",
    "model_path = 'TripletNet_taskA_2layerNet.pth'"
   ]
  },
  {
   "cell_type": "code",
   "execution_count": 5,
   "metadata": {},
   "outputs": [],
   "source": [
    "def aggregation_text(word_embs, axis = 0):\n",
    "    return np.sum(word_embs, axis=axis)"
   ]
  },
  {
   "cell_type": "code",
   "execution_count": 6,
   "metadata": {},
   "outputs": [
    {
     "name": "stdout",
     "output_type": "stream",
     "text": [
      "Loading model...\n"
     ]
    },
    {
     "data": {
      "text/plain": [
       "TripletNetAdapted(\n",
       "  (emb_net): EmbeddingNet(\n",
       "    (fc1): Sequential(\n",
       "      (0): Linear(in_features=4096, out_features=256, bias=True)\n",
       "      (1): ReLU()\n",
       "      (2): Linear(in_features=256, out_features=128, bias=True)\n",
       "      (3): ReLU()\n",
       "    )\n",
       "  )\n",
       "  (text_net): EmbeddingNet(\n",
       "    (fc1): Sequential(\n",
       "      (0): Linear(in_features=300, out_features=256, bias=True)\n",
       "      (1): ReLU()\n",
       "      (2): Linear(in_features=256, out_features=128, bias=True)\n",
       "      (3): ReLU()\n",
       "    )\n",
       "  )\n",
       ")"
      ]
     },
     "execution_count": 6,
     "metadata": {},
     "output_type": "execute_result"
    }
   ],
   "source": [
    "img_emb_dim = 4096\n",
    "text_emb_dim = 300\n",
    "\n",
    "embedding_net_img = EmbeddingNet(emd_dim=img_emb_dim)\n",
    "embedding_net_text = EmbeddingNet(emd_dim=text_emb_dim)\n",
    "model = TripletNetAdapted(embedding_net_img, embedding_net_text)\n",
    "# model = TripletNetAdaptedText(embedding_net_img, embedding_net_text)\n",
    "\n",
    "\n",
    "print('Loading model...')\n",
    "model.load_state_dict(torch.load(model_path))\n",
    "model.to(device)\n"
   ]
  },
  {
   "cell_type": "code",
   "execution_count": 7,
   "metadata": {},
   "outputs": [
    {
     "name": "stdout",
     "output_type": "stream",
     "text": [
      "(1000, 5)\n"
     ]
    }
   ],
   "source": [
    "# Prepare the dataset\n",
    "# train_data = FlickrDataset('./dataset/train_img_embs.pkl', './dataset/train_text_embs.pkl', aggregation=aggregation_text, train= True)\n",
    "test_data = FlickrDataset('./dataset/test_img_embs.pkl', './dataset/test_text_embs.pkl', aggregation=aggregation_text, train= False)"
   ]
  },
  {
   "cell_type": "code",
   "execution_count": 8,
   "metadata": {},
   "outputs": [],
   "source": [
    "color = ['#1f77b4', '#ff7f0e', '#2ca02c', '#d62728', '#9467bd', '#8c564b', '#e377c2', '#7f7f7f', '#bcbd22', '#17becf']\n",
    "encoded_imgs = []\n",
    "encoded_captions = []\n",
    "all_embs = []\n",
    "labels = []\n",
    "\n",
    "for ind in range(len(test_data)):\n",
    "    img, texts = test_data.getAllCaptions(ind)\n",
    "    img_emb = model.get_embedding_img(torch.from_numpy(img).to(device)).data.cpu().numpy()\n",
    "    encoded_imgs.append(img_emb)\n",
    "    texts_embs = [model.get_embedding_text(torch.from_numpy(tx).to(device)).data.cpu().numpy() for tx in texts]\n",
    "    encoded_captions.append(texts_embs)\n",
    "    all_embs.append(img_emb)\n",
    "    all_embs += texts_embs\n",
    "    labels += [ind for i in range(1 + len(texts_embs))]\n",
    "\n",
    "encoded_imgs = np.array(encoded_imgs)\n",
    "encoded_captions = np.array(encoded_captions)"
   ]
  },
  {
   "cell_type": "code",
   "execution_count": 16,
   "metadata": {},
   "outputs": [],
   "source": [
    "def compute_bestK(train_data, test_data, k=5, method=cv2.HISTCMP_BHATTACHARYYA, sortReverse=False):\n",
    "    precs_per_image = []\n",
    "    for ind, elem in tqdm(enumerate(test_data)):\n",
    "        results = getDistances(method, train_data, elem[1])\n",
    "        results = sorted([(v[1], v[0], k) for (k, v) in results.items()], reverse=sortReverse)\n",
    "        precs_per_image.append((elem[0], [res[2] for res in results[:k]]))\n",
    "        # classes = [res[1] for res in results[:k]]\n",
    "        # precs_per_image.append(classes.count(elem['label']) / k)\n",
    "    \n",
    "    return precs_per_image\n",
    "\n",
    "def embeddingsRawMap(embeddingsTxt, embeddingsImgs, labelsMap, captionsPerImage = 5):\n",
    "    embeddingsLabelMap = []\n",
    "    embeddingsImageMap = []\n",
    "    i = 0\n",
    "    for ind, emb in enumerate(embeddingsTxt):\n",
    "        imageInd  = ind // captionsPerImage\n",
    "        embeddingsLabelMap.append((labelsMap[imageInd]['sentences'][i]['raw'], labelsMap[imageInd]['filename'], emb))\n",
    "        if i == 0:\n",
    "            embeddingsImageMap.append((labelsMap[imageInd]['filename'], embeddingsImgs[imageInd]))\n",
    "        i = (i + 1) % captionsPerImage\n",
    "\n",
    "    return embeddingsImageMap, embeddingsLabelMap"
   ]
  },
  {
   "cell_type": "code",
   "execution_count": 11,
   "metadata": {},
   "outputs": [
    {
     "data": {
      "text/plain": [
       "(5000, 128)"
      ]
     },
     "execution_count": 11,
     "metadata": {},
     "output_type": "execute_result"
    }
   ],
   "source": [
    "np.shape(encoded_captions.reshape((5000, 128)))"
   ]
  },
  {
   "cell_type": "code",
   "execution_count": 12,
   "metadata": {},
   "outputs": [],
   "source": [
    "import json\n",
    "with open('dataset/test.json', 'rb') as op:\n",
    "    textsMap = json.load(op)\n",
    "\n",
    "embeddingsImageMap, embeddingsLabelMap = embeddingsRawMap(encoded_captions.reshape(5000,128), encoded_imgs, textsMap)"
   ]
  },
  {
   "cell_type": "code",
   "execution_count": 17,
   "metadata": {},
   "outputs": [
    {
     "name": "stdout",
     "output_type": "stream",
     "text": [
      "Retrieval system with distance metric:  Hellinger\n"
     ]
    },
    {
     "name": "stderr",
     "output_type": "stream",
     "text": [
      "5it [00:11,  2.33s/it]\n"
     ]
    }
   ],
   "source": [
    "tests = [('Hellinger', cv2.HISTCMP_BHATTACHARYYA, False) ]#, ('Correlation', cv2.HISTCMP_CORREL, True), ('Chi Square', cv2.HISTCMP_CHISQR, False), ('Intersection', cv2.HISTCMP_INTERSECT, True)]\n",
    "all_results_p1 = {}\n",
    "preds_10 = None\n",
    "for data in tests:\n",
    "    print('Retrieval system with distance metric: ', data[0])\n",
    "    preds_10 = compute_bestK(embeddingsLabelMap, embeddingsImageMap[:5],10,data[1],data[2])\n",
    "#     prec_at_1 = np.mean([elem[1][0].count(elem[0]) for elem in preds_10])\n",
    "#     prec_at_5 = np.mean([elem[1][:5].count(elem[0]) / 5 for elem in preds_10])\n",
    "#     prec_at_10 = np.mean([elem[1][:10].count(elem[0]) / 10 for elem in preds_10])\n",
    "#     all_results_p1[data[0]] = []\n",
    "#     for i in range(1,11):\n",
    "#         all_results_p1[data[0]].append(np.mean([elem[1][:i].count(elem[0]) / i for elem in preds_10]))\n",
    "#     print(f'Prec@1: {prec_at_1}', f'Prec@5: {prec_at_5}', f'Prec@10: {prec_at_10}')\n",
    "\n",
    "# for key, vals in all_results_p1.items():\n",
    "#     plt.plot(list(range(1,len(vals) + 1)), vals, label=key)\n",
    "# plt.legend()\n",
    "# plt.show()\n"
   ]
  },
  {
   "cell_type": "code",
   "execution_count": 18,
   "metadata": {},
   "outputs": [
    {
     "name": "stdout",
     "output_type": "stream",
     "text": [
      "[('1007129816.jpg', ['A man smoking a cigarette and wearing a NY baseball cap is looking down at a camera.', 'A man smoking a cigarette and wearing a yankees hat trying to operate a camera.', 'A British gentleman, dressed in full military uniform, waving his hat with a background of people sitting back and looking out onto the waterway.', 'Man in black hat sipping wine.', 'Man wearing red uniform holding a black hat in the air with his right hand.', 'An older man with a cigarette in his mouth and a ball cap inspects his camera.', 'Seated man with red hat and green shirt is talking on the phone.', 'A man wears an orange hat and glasses.', 'A young man in a blue poncho smoking a cigarette.', 'A man with a pensive look on his face shave off his beard.']), ('1009434119.jpg', ['A cat is looking down from on top of a sign.', 'A light brown dog jumps through a ring of fire while two people watch.', 'A dog goes through an obstacle course while his owner runs beside him.', 'A black dog sprints near the blue fence.', 'A bald man demonstarting how high his brown and black dog can jump.', 'A black and white dog jumping over a steeple vault at a competition', 'A man and his dog watch the sunset from a bench.', 'A black and white dog jumps over a hurdle.', 'A small black dog jumping over gates', 'A black and white dog is jumping fences in a dog show.']), ('101362133.jpg', [\"A boy wearing an orange doritos shirt looks like he's about to jump off of a piece of furniture.\", 'An oriental person in a red shirt and black pants crouching over a purse on concrete.', 'Girl hits a ball and the catcher looks on.', 'A kid is holding a broom and sweeping his property.', 'A man in white pants and a blue shirt is kicking a yellow boxing bag.', 'A man on the edge of a wall about to fall off.', 'A cat is looking down from on top of a sign.', 'A small boy dressed in a black sweatshirt with a logo on it, holds a red bat in front of blue stadium seats.', 'The girl with the red belt is kicking a pad that the person in black is holding.', 'A boy wearing jeans leaps in the air and shows his shadow below.']), ('102617084.jpg', ['A man dressed in all black is wearing shades and standing in snow and there is a red vehicle in back of him.', 'A group of 11 people in winter wear such as beanies, skiing jackets, gloves and backpacks are standing in snow paddles outside a house made of ice blocks while a person in front of the door seems to be leading them.', \"A group of people wearing snowshoes, and dressed for winter hiking, is standing in front of a building that looks like it's made of blocks of ice.\", 'A man in blue watches a family walk by while sitting in the snow.', 'Five snowmobile riders all wearing helmets and goggles line up in a snowy clearing in a forest in front of their snowmobiles; they are all wearing black snow pants and from left to right they are wearing a black coat, white coat, red coat, blue coat, and black coat.', 'A man is sitting in the snow watching as a group of people are walking by.', 'Four people dressed for warm weather out on a street walking.', 'A man in a yellow coat tends a fire, a boy in a parka watches.', 'Two workers wearing bright protective overcoats, shovel snow out of the way of passing residents.', 'A man in a blue jacket is standing in front of a small group of people.']), ('10287332.jpg', ['A man in a white hoodie is sitting on top of bamboo scaffolding near the roof of a building holding a spade.', 'A man wearing a blue shirt trying to get something with a pole from the roof of the room.', 'A brick wall has colorful graffiti on it.', 'A man carrying a large stack of metal poles over his shoulder.', 'Man scaling wall with fire in hand', 'A man carrying steel beams across a lumberyard.', 'The man is standing on the white wall in front of the building.', 'Three men, one on a ladder, work on a roof.', 'Man skates along cement wall.', 'A man is walking near a very colorful wall.'])]\n"
     ]
    }
   ],
   "source": [
    "print(preds_10)"
   ]
  },
  {
   "cell_type": "code",
   "execution_count": 8,
   "metadata": {},
   "outputs": [],
   "source": [
    "pca = PCA(n_components=3)\n",
    "pca.fit(all_embs)\n",
    "\n",
    "pca.explained_variance_ratio_"
   ]
  },
  {
   "cell_type": "code",
   "execution_count": 13,
   "metadata": {},
   "outputs": [
    {
     "ename": "Error",
     "evalue": "Canceled future for execute_request message before replies were done",
     "output_type": "error",
     "traceback": [
      "Error: Canceled future for execute_request message before replies were done",
      "at t.KernelShellFutureHandler.dispose (/export/home/group05/.vscode-server/extensions/ms-toolsai.jupyter-2022.3.1000901801/out/extension.js:2:1204175)",
      "at /export/home/group05/.vscode-server/extensions/ms-toolsai.jupyter-2022.3.1000901801/out/extension.js:2:1223227",
      "at Map.forEach (<anonymous>)",
      "at v._clearKernelState (/export/home/group05/.vscode-server/extensions/ms-toolsai.jupyter-2022.3.1000901801/out/extension.js:2:1223212)",
      "at v.dispose (/export/home/group05/.vscode-server/extensions/ms-toolsai.jupyter-2022.3.1000901801/out/extension.js:2:1216694)",
      "at /export/home/group05/.vscode-server/extensions/ms-toolsai.jupyter-2022.3.1000901801/out/extension.js:2:533674",
      "at t.swallowExceptions (/export/home/group05/.vscode-server/extensions/ms-toolsai.jupyter-2022.3.1000901801/out/extension.js:2:913059)",
      "at dispose (/export/home/group05/.vscode-server/extensions/ms-toolsai.jupyter-2022.3.1000901801/out/extension.js:2:533652)",
      "at t.RawSession.dispose (/export/home/group05/.vscode-server/extensions/ms-toolsai.jupyter-2022.3.1000901801/out/extension.js:2:537330)",
      "at runMicrotasks (<anonymous>)",
      "at processTicksAndRejections (node:internal/process/task_queues:96:5)"
     ]
    }
   ],
   "source": [
    "#doesn't work with all the samples, too heavy\n",
    "from embeddings_utils import build_knn\n",
    "knn = build_knn(all_embs, labels, 5)\n",
    "print(100.0 * knn.score(all_embs,labels))"
   ]
  },
  {
   "cell_type": "code",
   "execution_count": 10,
   "metadata": {},
   "outputs": [
    {
     "name": "stdout",
     "output_type": "stream",
     "text": [
      "Training One vs Rest...\n",
      "Predicting probas...\n",
      "Computing MAP...\n"
     ]
    },
    {
     "ename": "ValueError",
     "evalue": "Found input variables with inconsistent numbers of samples: [6000, 60]",
     "output_type": "error",
     "traceback": [
      "\u001b[0;31m---------------------------------------------------------------------------\u001b[0m",
      "\u001b[0;31mValueError\u001b[0m                                Traceback (most recent call last)",
      "\u001b[0;32m<ipython-input-10-feccec9e192b>\u001b[0m in \u001b[0;36m<module>\u001b[0;34m\u001b[0m\n\u001b[1;32m     21\u001b[0m \u001b[0mprint\u001b[0m\u001b[0;34m(\u001b[0m\u001b[0;34m'Computing MAP...'\u001b[0m\u001b[0;34m)\u001b[0m\u001b[0;34m\u001b[0m\u001b[0;34m\u001b[0m\u001b[0m\n\u001b[1;32m     22\u001b[0m \u001b[0;32mfor\u001b[0m \u001b[0mi\u001b[0m \u001b[0;32min\u001b[0m \u001b[0mrange\u001b[0m\u001b[0;34m(\u001b[0m\u001b[0mlen\u001b[0m\u001b[0;34m(\u001b[0m\u001b[0mtest_data\u001b[0m\u001b[0;34m)\u001b[0m\u001b[0;34m)\u001b[0m\u001b[0;34m:\u001b[0m\u001b[0;34m\u001b[0m\u001b[0;34m\u001b[0m\u001b[0m\n\u001b[0;32m---> 23\u001b[0;31m     \u001b[0map\u001b[0m \u001b[0;34m=\u001b[0m \u001b[0maverage_precision_score\u001b[0m\u001b[0;34m(\u001b[0m\u001b[0mY_test\u001b[0m\u001b[0;34m[\u001b[0m\u001b[0;34m:\u001b[0m\u001b[0;34m,\u001b[0m \u001b[0mi\u001b[0m\u001b[0;34m]\u001b[0m\u001b[0;34m,\u001b[0m \u001b[0my_score\u001b[0m\u001b[0;34m[\u001b[0m\u001b[0;34m:\u001b[0m\u001b[0;34m,\u001b[0m \u001b[0mi\u001b[0m\u001b[0;34m]\u001b[0m\u001b[0;34m)\u001b[0m\u001b[0;34m\u001b[0m\u001b[0;34m\u001b[0m\u001b[0m\n\u001b[0m\u001b[1;32m     24\u001b[0m     \u001b[0maps\u001b[0m\u001b[0;34m.\u001b[0m\u001b[0mappend\u001b[0m\u001b[0;34m(\u001b[0m\u001b[0map\u001b[0m\u001b[0;34m)\u001b[0m\u001b[0;34m\u001b[0m\u001b[0;34m\u001b[0m\u001b[0m\n\u001b[1;32m     25\u001b[0m \u001b[0;31m#     precision[i], recall[i], _ = precision_recall_curve(Y_test[:, i],\u001b[0m\u001b[0;34m\u001b[0m\u001b[0;34m\u001b[0m\u001b[0;34m\u001b[0m\u001b[0m\n",
      "\u001b[0;32m~/anaconda3/envs/M5env/lib/python3.7/site-packages/sklearn/metrics/_ranking.py\u001b[0m in \u001b[0;36maverage_precision_score\u001b[0;34m(y_true, y_score, average, pos_label, sample_weight)\u001b[0m\n\u001b[1;32m    231\u001b[0m     )\n\u001b[1;32m    232\u001b[0m     return _average_binary_score(\n\u001b[0;32m--> 233\u001b[0;31m         \u001b[0maverage_precision\u001b[0m\u001b[0;34m,\u001b[0m \u001b[0my_true\u001b[0m\u001b[0;34m,\u001b[0m \u001b[0my_score\u001b[0m\u001b[0;34m,\u001b[0m \u001b[0maverage\u001b[0m\u001b[0;34m,\u001b[0m \u001b[0msample_weight\u001b[0m\u001b[0;34m=\u001b[0m\u001b[0msample_weight\u001b[0m\u001b[0;34m\u001b[0m\u001b[0;34m\u001b[0m\u001b[0m\n\u001b[0m\u001b[1;32m    234\u001b[0m     )\n\u001b[1;32m    235\u001b[0m \u001b[0;34m\u001b[0m\u001b[0m\n",
      "\u001b[0;32m~/anaconda3/envs/M5env/lib/python3.7/site-packages/sklearn/metrics/_base.py\u001b[0m in \u001b[0;36m_average_binary_score\u001b[0;34m(binary_metric, y_true, y_score, average, sample_weight)\u001b[0m\n\u001b[1;32m     73\u001b[0m \u001b[0;34m\u001b[0m\u001b[0m\n\u001b[1;32m     74\u001b[0m     \u001b[0;32mif\u001b[0m \u001b[0my_type\u001b[0m \u001b[0;34m==\u001b[0m \u001b[0;34m\"binary\"\u001b[0m\u001b[0;34m:\u001b[0m\u001b[0;34m\u001b[0m\u001b[0;34m\u001b[0m\u001b[0m\n\u001b[0;32m---> 75\u001b[0;31m         \u001b[0;32mreturn\u001b[0m \u001b[0mbinary_metric\u001b[0m\u001b[0;34m(\u001b[0m\u001b[0my_true\u001b[0m\u001b[0;34m,\u001b[0m \u001b[0my_score\u001b[0m\u001b[0;34m,\u001b[0m \u001b[0msample_weight\u001b[0m\u001b[0;34m=\u001b[0m\u001b[0msample_weight\u001b[0m\u001b[0;34m)\u001b[0m\u001b[0;34m\u001b[0m\u001b[0;34m\u001b[0m\u001b[0m\n\u001b[0m\u001b[1;32m     76\u001b[0m \u001b[0;34m\u001b[0m\u001b[0m\n\u001b[1;32m     77\u001b[0m     \u001b[0mcheck_consistent_length\u001b[0m\u001b[0;34m(\u001b[0m\u001b[0my_true\u001b[0m\u001b[0;34m,\u001b[0m \u001b[0my_score\u001b[0m\u001b[0;34m,\u001b[0m \u001b[0msample_weight\u001b[0m\u001b[0;34m)\u001b[0m\u001b[0;34m\u001b[0m\u001b[0;34m\u001b[0m\u001b[0m\n",
      "\u001b[0;32m~/anaconda3/envs/M5env/lib/python3.7/site-packages/sklearn/metrics/_ranking.py\u001b[0m in \u001b[0;36m_binary_uninterpolated_average_precision\u001b[0;34m(y_true, y_score, pos_label, sample_weight)\u001b[0m\n\u001b[1;32m    204\u001b[0m     ):\n\u001b[1;32m    205\u001b[0m         precision, recall, _ = precision_recall_curve(\n\u001b[0;32m--> 206\u001b[0;31m             \u001b[0my_true\u001b[0m\u001b[0;34m,\u001b[0m \u001b[0my_score\u001b[0m\u001b[0;34m,\u001b[0m \u001b[0mpos_label\u001b[0m\u001b[0;34m=\u001b[0m\u001b[0mpos_label\u001b[0m\u001b[0;34m,\u001b[0m \u001b[0msample_weight\u001b[0m\u001b[0;34m=\u001b[0m\u001b[0msample_weight\u001b[0m\u001b[0;34m\u001b[0m\u001b[0;34m\u001b[0m\u001b[0m\n\u001b[0m\u001b[1;32m    207\u001b[0m         )\n\u001b[1;32m    208\u001b[0m         \u001b[0;31m# Return the step function integral\u001b[0m\u001b[0;34m\u001b[0m\u001b[0;34m\u001b[0m\u001b[0;34m\u001b[0m\u001b[0m\n",
      "\u001b[0;32m~/anaconda3/envs/M5env/lib/python3.7/site-packages/sklearn/metrics/_ranking.py\u001b[0m in \u001b[0;36mprecision_recall_curve\u001b[0;34m(y_true, probas_pred, pos_label, sample_weight)\u001b[0m\n\u001b[1;32m    857\u001b[0m     \"\"\"\n\u001b[1;32m    858\u001b[0m     fps, tps, thresholds = _binary_clf_curve(\n\u001b[0;32m--> 859\u001b[0;31m         \u001b[0my_true\u001b[0m\u001b[0;34m,\u001b[0m \u001b[0mprobas_pred\u001b[0m\u001b[0;34m,\u001b[0m \u001b[0mpos_label\u001b[0m\u001b[0;34m=\u001b[0m\u001b[0mpos_label\u001b[0m\u001b[0;34m,\u001b[0m \u001b[0msample_weight\u001b[0m\u001b[0;34m=\u001b[0m\u001b[0msample_weight\u001b[0m\u001b[0;34m\u001b[0m\u001b[0;34m\u001b[0m\u001b[0m\n\u001b[0m\u001b[1;32m    860\u001b[0m     )\n\u001b[1;32m    861\u001b[0m \u001b[0;34m\u001b[0m\u001b[0m\n",
      "\u001b[0;32m~/anaconda3/envs/M5env/lib/python3.7/site-packages/sklearn/metrics/_ranking.py\u001b[0m in \u001b[0;36m_binary_clf_curve\u001b[0;34m(y_true, y_score, pos_label, sample_weight)\u001b[0m\n\u001b[1;32m    731\u001b[0m         \u001b[0;32mraise\u001b[0m \u001b[0mValueError\u001b[0m\u001b[0;34m(\u001b[0m\u001b[0;34m\"{0} format is not supported\"\u001b[0m\u001b[0;34m.\u001b[0m\u001b[0mformat\u001b[0m\u001b[0;34m(\u001b[0m\u001b[0my_type\u001b[0m\u001b[0;34m)\u001b[0m\u001b[0;34m)\u001b[0m\u001b[0;34m\u001b[0m\u001b[0;34m\u001b[0m\u001b[0m\n\u001b[1;32m    732\u001b[0m \u001b[0;34m\u001b[0m\u001b[0m\n\u001b[0;32m--> 733\u001b[0;31m     \u001b[0mcheck_consistent_length\u001b[0m\u001b[0;34m(\u001b[0m\u001b[0my_true\u001b[0m\u001b[0;34m,\u001b[0m \u001b[0my_score\u001b[0m\u001b[0;34m,\u001b[0m \u001b[0msample_weight\u001b[0m\u001b[0;34m)\u001b[0m\u001b[0;34m\u001b[0m\u001b[0;34m\u001b[0m\u001b[0m\n\u001b[0m\u001b[1;32m    734\u001b[0m     \u001b[0my_true\u001b[0m \u001b[0;34m=\u001b[0m \u001b[0mcolumn_or_1d\u001b[0m\u001b[0;34m(\u001b[0m\u001b[0my_true\u001b[0m\u001b[0;34m)\u001b[0m\u001b[0;34m\u001b[0m\u001b[0;34m\u001b[0m\u001b[0m\n\u001b[1;32m    735\u001b[0m     \u001b[0my_score\u001b[0m \u001b[0;34m=\u001b[0m \u001b[0mcolumn_or_1d\u001b[0m\u001b[0;34m(\u001b[0m\u001b[0my_score\u001b[0m\u001b[0;34m)\u001b[0m\u001b[0;34m\u001b[0m\u001b[0;34m\u001b[0m\u001b[0m\n",
      "\u001b[0;32m~/anaconda3/envs/M5env/lib/python3.7/site-packages/sklearn/utils/validation.py\u001b[0m in \u001b[0;36mcheck_consistent_length\u001b[0;34m(*arrays)\u001b[0m\n\u001b[1;32m    332\u001b[0m         raise ValueError(\n\u001b[1;32m    333\u001b[0m             \u001b[0;34m\"Found input variables with inconsistent numbers of samples: %r\"\u001b[0m\u001b[0;34m\u001b[0m\u001b[0;34m\u001b[0m\u001b[0m\n\u001b[0;32m--> 334\u001b[0;31m             \u001b[0;34m%\u001b[0m \u001b[0;34m[\u001b[0m\u001b[0mint\u001b[0m\u001b[0;34m(\u001b[0m\u001b[0ml\u001b[0m\u001b[0;34m)\u001b[0m \u001b[0;32mfor\u001b[0m \u001b[0ml\u001b[0m \u001b[0;32min\u001b[0m \u001b[0mlengths\u001b[0m\u001b[0;34m]\u001b[0m\u001b[0;34m\u001b[0m\u001b[0;34m\u001b[0m\u001b[0m\n\u001b[0m\u001b[1;32m    335\u001b[0m         )\n\u001b[1;32m    336\u001b[0m \u001b[0;34m\u001b[0m\u001b[0m\n",
      "\u001b[0;31mValueError\u001b[0m: Found input variables with inconsistent numbers of samples: [6000, 60]"
     ]
    }
   ],
   "source": [
    "from sklearn.preprocessing import label_binarize\n",
    "from sklearn.multiclass import OneVsRestClassifier\n",
    "from sklearn.metrics import precision_recall_curve\n",
    "from sklearn.metrics import average_precision_score\n",
    "from sklearn.neighbors import KNeighborsClassifier\n",
    "\n",
    "Y = label_binarize(labels, classes=[*range(len(test_data))])\n",
    "Y_test = label_binarize(labels[:60], classes=[*range(len(test_data))])\n",
    "\n",
    "print('Training One vs Rest...')\n",
    "clf = OneVsRestClassifier(KNeighborsClassifier(n_neighbors=8))\n",
    "clf.fit(all_embs, Y)\n",
    "\n",
    "print('Predicting probas...')\n",
    "y_score = clf.predict_proba(all_embs[:60])\n",
    "\n",
    "# precision recall curve\n",
    "precision = dict()\n",
    "recall = dict()\n",
    "aps = []\n",
    "print('Computing MAP...')\n",
    "for i in range(len(test_data)):\n",
    "    ap = average_precision_score(Y_test[:, i], y_score[:, i])\n",
    "    aps.append(ap)\n",
    "#     precision[i], recall[i], _ = precision_recall_curve(Y_test[:, i],\n",
    "#                                                         y_score[:, i])\n",
    "#     plt.plot(recall[i], precision[i], lw=2, label=f'{mit_classes[i]} - {ap:.3f}')\n",
    "print(np.mean(aps))\n",
    "# plt.xlabel(\"recall\")\n",
    "# plt.ylabel(\"precision\")\n",
    "# plt.legend(loc=\"best\")\n",
    "# plt.title(\"precision vs. recall curve\")\n",
    "# plt.show()"
   ]
  },
  {
   "cell_type": "code",
   "execution_count": 15,
   "metadata": {},
   "outputs": [
    {
     "name": "stderr",
     "output_type": "stream",
     "text": [
      "/home/group05/anaconda3/envs/M5env/lib/python3.7/site-packages/umap/spectral.py:261: UserWarning: WARNING: spectral initialisation failed! The eigenvector solver\n",
      "failed. This is likely due to too small an eigengap. Consider\n",
      "adding some noise or jitter to your data.\n",
      "\n",
      "Falling back to random initialisation!\n",
      "  \"WARNING: spectral initialisation failed! The eigenvector solver\\n\"\n",
      "/home/group05/anaconda3/envs/M5env/lib/python3.7/site-packages/umap/spectral.py:261: UserWarning: WARNING: spectral initialisation failed! The eigenvector solver\n",
      "failed. This is likely due to too small an eigengap. Consider\n",
      "adding some noise or jitter to your data.\n",
      "\n",
      "Falling back to random initialisation!\n",
      "  \"WARNING: spectral initialisation failed! The eigenvector solver\\n\"\n",
      "/home/group05/anaconda3/envs/M5env/lib/python3.7/site-packages/scipy/sparse/_index.py:125: SparseEfficiencyWarning: Changing the sparsity structure of a csr_matrix is expensive. lil_matrix is more efficient.\n",
      "  self._set_arrayXarray(i, j, x)\n"
     ]
    },
    {
     "data": {
      "image/png": "[encoded data removed]",
      "text/plain": [
       "<Figure size 1080x1080 with 1 Axes>"
      ]
     },
     "metadata": {
      "needs_background": "light"
     },
     "output_type": "display_data"
    }
   ],
   "source": [
    "# #UMAP\n",
    "# # compute the umap image representation\n",
    "import umap.umap_ as umap\n",
    "import matplotlib.patheffects as PathEffects\n",
    "\n",
    "def plot_embeddings_umap(embeddings_cl, embeddings_to_plot, labels_cl):\n",
    "        plt.figure(figsize=(15,15))\n",
    "        umap_emb = umap.UMAP(n_neighbors=4, min_dist=0.3, metric='correlation')\n",
    "        umap_emb.fit(embeddings_cl)\n",
    "        embedding = umap_emb.transform(embeddings_to_plot)\n",
    "        labels = np.unique(labels_cl)\n",
    "\n",
    "        for idx, label in enumerate(labels):\n",
    "            label_features = [embedding[i] for i, x in enumerate(labels_cl) if x == label]\n",
    "            plt.scatter(\n",
    "                [x[0] for x in label_features],\n",
    "                [x[1] for x in label_features],\n",
    "                c=np.array([color[idx]]),\n",
    "                label=label,\n",
    "                # s=np.ones(len(test_classes)),\n",
    "            )\n",
    "\n",
    "        # plt.legend(loc='best')\n",
    "\n",
    "        for idx, label in enumerate(labels):\n",
    "            label_features = [embedding[i] for i, x in enumerate(labels_cl) if x == label]\n",
    "            xtext, ytext = np.median(label_features, axis=0)\n",
    "            txt = plt.text(xtext, ytext, label)\n",
    "            txt.set_path_effects([\n",
    "                PathEffects.Stroke(linewidth=5, foreground=\"w\"),\n",
    "                PathEffects.Normal()])\n",
    "\n",
    "        plt.title('2D UMAP representation of the image features')\n",
    "        plt.show()\n",
    "\n",
    "\n",
    "plot_embeddings_umap(all_embs, all_embs[:12], labels[:12])"
   ]
  }
 ],
 "metadata": {
  "interpreter": {
   "hash": "3403cc93a53f62706eb00774ee9b4a3b3eb9f2d81f53e3496b8b070b38dadcd0"
  },
  "kernelspec": {
   "display_name": "Python 3.7.4 ('base')",
   "language": "python",
   "name": "python3"
  },
  "language_info": {
   "codemirror_mode": {
    "name": "ipython",
    "version": 3
   },
   "file_extension": ".py",
   "mimetype": "text/x-python",
   "name": "python",
   "nbconvert_exporter": "python",
   "pygments_lexer": "ipython3",
   "version": "3.8.12"
  },
  "orig_nbformat": 4
 },
 "nbformat": 4,
 "nbformat_minor": 2
}
